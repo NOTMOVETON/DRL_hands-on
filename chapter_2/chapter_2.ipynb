{
 "cells": [
  {
   "cell_type": "code",
   "execution_count": 3,
   "id": "40a01d75-4a7b-419b-9e94-fb78f01afedd",
   "metadata": {},
   "outputs": [],
   "source": [
    "### Deep RL Hands-On book"
   ]
  },
  {
   "cell_type": "markdown",
   "id": "3401e12b-d8ea-430b-9104-efa074d11d09",
   "metadata": {},
   "source": [
    "# The anatomy of the agent"
   ]
  },
  {
   "cell_type": "code",
   "execution_count": 17,
   "id": "3189cdf9-cb55-451d-8f76-5f8544e7deaf",
   "metadata": {},
   "outputs": [
    {
     "name": "stdout",
     "output_type": "stream",
     "text": [
      "Total reward got: 6.0743\n"
     ]
    }
   ],
   "source": [
    "import random\n",
    "\n",
    "\n",
    "class Environment:\n",
    "    def __init__(self):\n",
    "        self.steps_left = 10\n",
    "\n",
    "    def get_observation(self):\n",
    "        return [0.0, 0.0, 0.0]\n",
    "\n",
    "    def get_actions(self):\n",
    "        return [0, 1]\n",
    "\n",
    "    def is_done(self):\n",
    "        return self.steps_left == 0\n",
    "\n",
    "    def action(self, action):\n",
    "        if self.is_done():\n",
    "            raise Exception(\"Game is over\")\n",
    "        self.steps_left -= 1\n",
    "        return random.random()\n",
    "\n",
    "\n",
    "class Agent:\n",
    "    def __init__(self):\n",
    "        self.total_reward = 0.0\n",
    "\n",
    "    def step(self, env):\n",
    "        current_obs = env.get_observation()\n",
    "        actions = env.get_actions()\n",
    "        reward = env.action(random.choice(actions))\n",
    "        self.total_reward += reward\n",
    "\n",
    "\n",
    "if __name__ == \"__main__\":\n",
    "    env = Environment()\n",
    "    agent = Agent()\n",
    "\n",
    "    while not env.is_done():\n",
    "        agent.step(env)\n",
    "\n",
    "    print(\"Total reward got: %.4f\" % agent.total_reward)"
   ]
  },
  {
   "cell_type": "markdown",
   "id": "0ae2a894-9aaa-44f5-8f6f-57ed4fa760dc",
   "metadata": {},
   "source": [
    "# Creating an environment GYM"
   ]
  },
  {
   "cell_type": "code",
   "execution_count": 10,
   "id": "812f4471-d3fa-4d0f-9358-cb79e3d5ef91",
   "metadata": {},
   "outputs": [],
   "source": [
    "import gymnasium as gym\n",
    "e = gym.make('CartPole-v0',render_mode='human')"
   ]
  },
  {
   "cell_type": "code",
   "execution_count": 14,
   "id": "794700dd-1090-48a5-8deb-c33f906172bf",
   "metadata": {},
   "outputs": [
    {
     "name": "stdout",
     "output_type": "stream",
     "text": [
      "EnvSpec(id='CartPole-v0', entry_point='gymnasium.envs.classic_control.cartpole:CartPoleEnv', reward_threshold=195.0, nondeterministic=False, max_episode_steps=200, order_enforce=True, autoreset=False, disable_env_checker=False, apply_api_compatibility=False, kwargs={'render_mode': 'human'}, namespace=None, name='CartPole', version=0, additional_wrappers=(), vector_entry_point='gymnasium.envs.classic_control.cartpole:CartPoleVectorEnv')\n"
     ]
    }
   ],
   "source": [
    "print(e.spec)"
   ]
  },
  {
   "cell_type": "code",
   "execution_count": 28,
   "id": "4a96eb28-c67d-4359-ab54-f1bd48921b01",
   "metadata": {},
   "outputs": [
    {
     "name": "stdout",
     "output_type": "stream",
     "text": [
      "(array([-0.01428897, -0.00339545, -0.03387735, -0.0170701 ], dtype=float32), {})\n"
     ]
    }
   ],
   "source": [
    "obs = e.reset()\n",
    "print(obs)"
   ]
  },
  {
   "cell_type": "code",
   "execution_count": 31,
   "id": "a5110cc6-eec7-4961-8dff-11983ce55f08",
   "metadata": {},
   "outputs": [
    {
     "name": "stdout",
     "output_type": "stream",
     "text": [
      "Box([-4.8000002e+00 -3.4028235e+38 -4.1887903e-01 -3.4028235e+38], [4.8000002e+00 3.4028235e+38 4.1887903e-01 3.4028235e+38], (4,), float32)\n",
      "\n",
      "Discrete(2)\n"
     ]
    }
   ],
   "source": [
    "print(e.observation_space)\n",
    "print()\n",
    "print(e.action_space)"
   ]
  },
  {
   "cell_type": "code",
   "execution_count": 34,
   "id": "32f67de3-51c9-4cd3-b70e-22c93c7c33ee",
   "metadata": {},
   "outputs": [
    {
     "data": {
      "text/plain": [
       "(array([-0.02616985, -0.5873367 , -0.01799543,  0.8298624 ], dtype=float32),\n",
       " 1.0,\n",
       " False,\n",
       " False,\n",
       " {})"
      ]
     },
     "execution_count": 34,
     "metadata": {},
     "output_type": "execute_result"
    }
   ],
   "source": [
    "e.step(0)"
   ]
  },
  {
   "cell_type": "code",
   "execution_count": 35,
   "id": "6914fa22-2a1c-4ae4-a3bb-6d4a589d3232",
   "metadata": {},
   "outputs": [
    {
     "data": {
      "text/plain": [
       "0"
      ]
     },
     "execution_count": 35,
     "metadata": {},
     "output_type": "execute_result"
    }
   ],
   "source": [
    "e.action_space.sample()"
   ]
  },
  {
   "cell_type": "code",
   "execution_count": 37,
   "id": "043a6be3-7145-4011-b762-61a9c2f652d4",
   "metadata": {},
   "outputs": [
    {
     "data": {
      "text/plain": [
       "array([-3.1235516e+00, -1.3034942e+38,  3.9547995e-01, -2.8787100e+38],\n",
       "      dtype=float32)"
      ]
     },
     "execution_count": 37,
     "metadata": {},
     "output_type": "execute_result"
    }
   ],
   "source": [
    "e.observation_space.sample()"
   ]
  },
  {
   "cell_type": "code",
   "execution_count": 17,
   "id": "9bc47b39-8635-4f39-a802-bd3d5ff3b630",
   "metadata": {},
   "outputs": [],
   "source": [
    "EPOHS = 100\n",
    "TOTAL_REWARD = 0.0"
   ]
  },
  {
   "cell_type": "code",
   "execution_count": 65,
   "id": "36959c37-fa09-4dbf-a208-a492407235e1",
   "metadata": {},
   "outputs": [
    {
     "name": "stdout",
     "output_type": "stream",
     "text": [
      "\n",
      "500 Epohs was done \n",
      "ended with total mean reward: 22.578\n"
     ]
    }
   ],
   "source": [
    "### Random action applied\n",
    "\n",
    "EPOHS = 500\n",
    "TOTAL_REWARD = 0.0\n",
    "e = gym.make('CartPole-v0')\n",
    "for _ in range(EPOHS):\n",
    "    total_reward_epoh = 0.0\n",
    "    total_steps = 0\n",
    "    obs = e.reset()\n",
    "    while True:\n",
    "        action = e.action_space.sample()\n",
    "        obs, reward, terminated, truncated, info = e.step(action)\n",
    "        # print(f\"Observations: {obs}\")\n",
    "        # print(f\"Info: {info}\")\n",
    "        total_steps += 1\n",
    "        total_reward_epoh += reward\n",
    "        if (terminated or truncated):\n",
    "            #print(f\"\\nAgent has been terminated({terminated}) or truncated({truncated})\")\n",
    "            break\n",
    "    TOTAL_REWARD += total_reward_epoh\n",
    "    #print(f\"\\nEpisodes was done: {total_steps} \\nended with total reward: {total_reward_epoh}\")\n",
    "print(f\"\\n{EPOHS} Epohs was done \\nended with total mean reward: {TOTAL_REWARD/EPOHS}\")\n",
    "e.close()"
   ]
  },
  {
   "cell_type": "code",
   "execution_count": 51,
   "id": "a878d143-5c1d-488d-9b24-ab7e8a1982c3",
   "metadata": {},
   "outputs": [],
   "source": [
    "e.close()"
   ]
  },
  {
   "cell_type": "markdown",
   "id": "ab707759",
   "metadata": {},
   "source": [
    "# Custom wrapper"
   ]
  },
  {
   "cell_type": "code",
   "execution_count": 19,
   "id": "f0f0ae15",
   "metadata": {},
   "outputs": [
    {
     "name": "stdout",
     "output_type": "stream",
     "text": [
      "Random!\n",
      "Random!\n",
      "Random!\n",
      "Reward got: 11.00\n"
     ]
    }
   ],
   "source": [
    "import random\n",
    "\n",
    "\n",
    "class RandomActionWrapper(gym.ActionWrapper):\n",
    "    def __init__(self, env, epsilon=0.1):\n",
    "        super(RandomActionWrapper, self).__init__(env)\n",
    "        self.epsilon = epsilon\n",
    "\n",
    "    def action(self, action):\n",
    "        if random.random() < self.epsilon:\n",
    "            print(\"Random!\")\n",
    "            return self.env.action_space.sample()\n",
    "        return action\n",
    "\n",
    "\n",
    "if __name__ == \"__main__\":\n",
    "    env = RandomActionWrapper(gym.make(\"CartPole-v0\"))\n",
    "\n",
    "    obs = env.reset()\n",
    "    total_reward = 0.0\n",
    "\n",
    "    while True:\n",
    "        obs, reward, terminated, truncated, info = env.step(0)\n",
    "        total_reward += reward\n",
    "        if terminated or truncated:\n",
    "            break\n",
    "\n",
    "    print(\"Reward got: %.2f\" % total_reward)"
   ]
  },
  {
   "cell_type": "markdown",
   "id": "8c9ef5ea",
   "metadata": {},
   "source": [
    "# Video Recording"
   ]
  },
  {
   "cell_type": "code",
   "execution_count": 6,
   "id": "ab28c990-0115-40bc-9c01-0a57175fd23b",
   "metadata": {},
   "outputs": [
    {
     "name": "stdout",
     "output_type": "stream",
     "text": [
      "Moviepy - Building video /home/dmitriy/ITMO/DISS/chapter_2/videos/eval-episode-0.mp4.\n",
      "Moviepy - Writing video /home/dmitriy/ITMO/DISS/chapter_2/videos/eval-episode-0.mp4\n",
      "\n"
     ]
    },
    {
     "name": "stderr",
     "output_type": "stream",
     "text": [
      "                                                   "
     ]
    },
    {
     "name": "stdout",
     "output_type": "stream",
     "text": [
      "Moviepy - Done !\n",
      "Moviepy - video ready /home/dmitriy/ITMO/DISS/chapter_2/videos/eval-episode-0.mp4\n",
      "Episode total rewards: deque([array([0.], dtype=float32), array([0.], dtype=float32), array([0.], dtype=float32), array([0.], dtype=float32), array([0.], dtype=float32), array([0.], dtype=float32), array([0.], dtype=float32), array([0.], dtype=float32), array([0.], dtype=float32), array([0.], dtype=float32), array([0.], dtype=float32), array([0.], dtype=float32), array([0.], dtype=float32), array([0.], dtype=float32), array([0.], dtype=float32), array([0.], dtype=float32), array([0.], dtype=float32), array([0.], dtype=float32), array([0.], dtype=float32), array([0.], dtype=float32), array([0.], dtype=float32), array([0.], dtype=float32), array([0.], dtype=float32), array([0.], dtype=float32), array([0.], dtype=float32), array([0.], dtype=float32), array([0.], dtype=float32), array([0.], dtype=float32), array([0.], dtype=float32), array([0.], dtype=float32), array([0.], dtype=float32), array([0.], dtype=float32), array([0.], dtype=float32), array([0.], dtype=float32), array([0.], dtype=float32), array([0.], dtype=float32), array([0.], dtype=float32), array([0.], dtype=float32), array([0.], dtype=float32), array([0.], dtype=float32), array([0.], dtype=float32), array([0.], dtype=float32), array([0.], dtype=float32), array([0.], dtype=float32), array([0.], dtype=float32), array([0.], dtype=float32), array([0.], dtype=float32), array([0.], dtype=float32), array([0.], dtype=float32), array([0.], dtype=float32), array([0.], dtype=float32), array([0.], dtype=float32), array([0.], dtype=float32), array([0.], dtype=float32), array([0.], dtype=float32), array([0.], dtype=float32), array([0.], dtype=float32), array([0.], dtype=float32), array([0.], dtype=float32), array([0.], dtype=float32), array([0.], dtype=float32), array([0.], dtype=float32), array([0.], dtype=float32), array([0.], dtype=float32), array([0.], dtype=float32), array([0.], dtype=float32), array([0.], dtype=float32), array([0.], dtype=float32), array([0.], dtype=float32), array([0.], dtype=float32), array([0.], dtype=float32), array([0.], dtype=float32), array([0.], dtype=float32), array([0.], dtype=float32), array([0.], dtype=float32), array([0.], dtype=float32), array([0.], dtype=float32), array([0.], dtype=float32), array([0.], dtype=float32), array([0.], dtype=float32), array([0.], dtype=float32), array([0.], dtype=float32), array([0.], dtype=float32), array([0.], dtype=float32), array([0.], dtype=float32), array([0.], dtype=float32), array([0.], dtype=float32), array([0.], dtype=float32), array([0.], dtype=float32), array([0.], dtype=float32), array([0.], dtype=float32), array([0.], dtype=float32), array([0.], dtype=float32), array([0.], dtype=float32), array([0.], dtype=float32), array([0.], dtype=float32), array([0.], dtype=float32), array([0.], dtype=float32), array([0.], dtype=float32), array([0.], dtype=float32)], maxlen=100)\n",
      "\n",
      "Episode lengths: deque([array([1], dtype=int32), array([1], dtype=int32), array([1], dtype=int32), array([1], dtype=int32), array([1], dtype=int32), array([1], dtype=int32), array([1], dtype=int32), array([1], dtype=int32), array([1], dtype=int32), array([1], dtype=int32), array([1], dtype=int32), array([1], dtype=int32), array([1], dtype=int32), array([1], dtype=int32), array([1], dtype=int32), array([1], dtype=int32), array([1], dtype=int32), array([1], dtype=int32), array([1], dtype=int32), array([1], dtype=int32), array([1], dtype=int32), array([1], dtype=int32), array([1], dtype=int32), array([1], dtype=int32), array([1], dtype=int32), array([1], dtype=int32), array([1], dtype=int32), array([1], dtype=int32), array([1], dtype=int32), array([1], dtype=int32), array([1], dtype=int32), array([1], dtype=int32), array([1], dtype=int32), array([1], dtype=int32), array([1], dtype=int32), array([1], dtype=int32), array([1], dtype=int32), array([1], dtype=int32), array([1], dtype=int32), array([1], dtype=int32), array([1], dtype=int32), array([1], dtype=int32), array([1], dtype=int32), array([1], dtype=int32), array([1], dtype=int32), array([1], dtype=int32), array([1], dtype=int32), array([1], dtype=int32), array([1], dtype=int32), array([1], dtype=int32), array([1], dtype=int32), array([1], dtype=int32), array([1], dtype=int32), array([1], dtype=int32), array([1], dtype=int32), array([1], dtype=int32), array([1], dtype=int32), array([1], dtype=int32), array([1], dtype=int32), array([1], dtype=int32), array([1], dtype=int32), array([1], dtype=int32), array([1], dtype=int32), array([1], dtype=int32), array([1], dtype=int32), array([1], dtype=int32), array([1], dtype=int32), array([1], dtype=int32), array([1], dtype=int32), array([1], dtype=int32), array([1], dtype=int32), array([1], dtype=int32), array([1], dtype=int32), array([1], dtype=int32), array([1], dtype=int32), array([1], dtype=int32), array([1], dtype=int32), array([1], dtype=int32), array([1], dtype=int32), array([1], dtype=int32), array([1], dtype=int32), array([1], dtype=int32), array([1], dtype=int32), array([1], dtype=int32), array([1], dtype=int32), array([1], dtype=int32), array([1], dtype=int32), array([1], dtype=int32), array([1], dtype=int32), array([1], dtype=int32), array([1], dtype=int32), array([1], dtype=int32), array([1], dtype=int32), array([1], dtype=int32), array([1], dtype=int32), array([1], dtype=int32), array([1], dtype=int32), array([1], dtype=int32), array([1], dtype=int32), array([1], dtype=int32)], maxlen=100)\n"
     ]
    },
    {
     "name": "stderr",
     "output_type": "stream",
     "text": [
      "\r"
     ]
    }
   ],
   "source": [
    "import gymnasium as gym\n",
    "from gymnasium.wrappers import RecordEpisodeStatistics, RecordVideo\n",
    "\n",
    "num_eval_episodes = 1\n",
    "\n",
    "env = gym.make(\"CartPole-v1\", render_mode=\"rgb_array\")  # replace with your environment\n",
    "env = RecordVideo(env, video_folder=\"./videos\", name_prefix=\"eval\",\n",
    "                  episode_trigger=lambda x: True)\n",
    "env = RecordEpisodeStatistics(env)\n",
    "\n",
    "for episode_num in range(num_eval_episodes):\n",
    "    obs, info = env.reset()\n",
    "\n",
    "    episode_over = False\n",
    "    for _ in range(1000):\n",
    "        action = env.action_space.sample()  # replace with actual agent\n",
    "        obs, reward, terminated, truncated, info = env.step(action)\n",
    "\n",
    "        episode_over = terminated or truncated\n",
    "env.close()\n",
    "\n",
    "#print(f'Episode time taken: {env.time}')\n",
    "print(f'Episode total rewards: {env.return_queue}')\n",
    "print()\n",
    "print(f'Episode lengths: {env.length_queue}')"
   ]
  },
  {
   "cell_type": "code",
   "execution_count": null,
   "id": "df36afb8-08f3-4318-a5b6-337b07bd110a",
   "metadata": {},
   "outputs": [],
   "source": []
  }
 ],
 "metadata": {
  "kernelspec": {
   "display_name": "Python 3 (ipykernel)",
   "language": "python",
   "name": "python3"
  },
  "language_info": {
   "codemirror_mode": {
    "name": "ipython",
    "version": 3
   },
   "file_extension": ".py",
   "mimetype": "text/x-python",
   "name": "python",
   "nbconvert_exporter": "python",
   "pygments_lexer": "ipython3",
   "version": "3.10.12"
  }
 },
 "nbformat": 4,
 "nbformat_minor": 5
}
